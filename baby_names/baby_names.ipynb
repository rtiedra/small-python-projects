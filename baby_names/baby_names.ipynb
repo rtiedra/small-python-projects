{
 "cells": [
  {
   "cell_type": "markdown",
   "id": "4944a5e6-e32c-4e99-a5c6-02e3b7690808",
   "metadata": {},
   "source": [
    "Script for the \"Baby Names exercise\" of Google's Python Class<br>\n",
    "https://developers.google.com/edu/python/exercises/baby-names<br>\n",
    "Licensed under the Apache License, Version 2.0<br>\n",
    "http://www.apache.org/licenses/LICENSE-2.0"
   ]
  },
  {
   "cell_type": "markdown",
   "id": "7d141212-fe5f-4dae-8ca4-096a55a53793",
   "metadata": {},
   "source": [
    "The program takes as input a html file containing names of (male and female) babies born in a given year, and order them alphabetically."
   ]
  },
  {
   "cell_type": "code",
   "execution_count": 7,
   "id": "111c0da2-b60f-4429-a309-47c97bcf0812",
   "metadata": {},
   "outputs": [],
   "source": [
    "import sys\n",
    "import re"
   ]
  },
  {
   "cell_type": "markdown",
   "id": "021068f0-4280-427b-94d9-bda2de06cab7",
   "metadata": {},
   "source": [
    "The function extract_names takes a html file and returns a list containing the year, the names of babies ordered alphabetically, and the popularity index of the names:"
   ]
  },
  {
   "cell_type": "code",
   "execution_count": 8,
   "id": "c0b96838-b2a8-4e0c-ac81-cc807cd545ad",
   "metadata": {},
   "outputs": [],
   "source": [
    "def extract_names(filename):\n",
    "  file = open(filename,'r')\n",
    "  filedata = file.read()\n",
    "  file.close()\n",
    "  match = re.search(r'Popularity in \\d+', filedata)\n",
    "  year = match.group()[-4:]\n",
    "  names = [year]\n",
    "  components = re.findall(r'(\\d+?)</td><td>(\\w+?)</td><td>(\\w+?)<', filedata)\n",
    "  for component in components:\n",
    "    names.append(component[1] + ' ' + component[0])\n",
    "    names.append(component[2] + ' ' + component[0])\n",
    "  names = sorted(names)\n",
    "  return names"
   ]
  },
  {
   "cell_type": "markdown",
   "id": "6fc44cbe-fb59-4315-89fa-49ac77e49661",
   "metadata": {},
   "source": [
    "main() stops and return a usage message if no arguments are given:"
   ]
  },
  {
   "cell_type": "code",
   "execution_count": 9,
   "id": "69a0868a-f4ed-44dc-a14b-9ff3e7dc5bc5",
   "metadata": {},
   "outputs": [],
   "source": [
    "def main():\n",
    "  args = sys.argv[1:]\n",
    "  if not args:\n",
    "    sys.exit('usage: [--summary] file [file ...]')\n",
    "\n",
    "  # Notices the summary flag and removes it from args if it is present:\n",
    "  summary = False\n",
    "  if args[0] == '--summary':\n",
    "    summary = True\n",
    "    del args[0]\n",
    "\n",
    "  for filename in args:\n",
    "    names = extract_names(filename)\n",
    "\n",
    "    # Makes text separated by line breaks out of the whole list:\n",
    "    text = '\\n'.join(names)\n",
    "\n",
    "    # If the option summary is entered, creates a file filename.summary containing the text:\n",
    "    if summary:\n",
    "      outf = open(filename + '.summary', 'w')\n",
    "      outf.write(text)\n",
    "      outf.close()\n",
    "    else:\n",
    "      print(text)"
   ]
  },
  {
   "cell_type": "code",
   "execution_count": 11,
   "id": "854c1008-0643-4f03-835a-48d1825b8e32",
   "metadata": {},
   "outputs": [],
   "source": [
    "if __name__ == '__main__' and '__file__' in globals():\n",
    "  main()"
   ]
  },
  {
   "cell_type": "code",
   "execution_count": null,
   "id": "029f9b53-0887-43fc-8a06-6126c36a4f03",
   "metadata": {},
   "outputs": [],
   "source": []
  }
 ],
 "metadata": {
  "kernelspec": {
   "display_name": "Python 3",
   "language": "python",
   "name": "python3"
  },
  "language_info": {
   "codemirror_mode": {
    "name": "ipython",
    "version": 3
   },
   "file_extension": ".py",
   "mimetype": "text/x-python",
   "name": "python",
   "nbconvert_exporter": "python",
   "pygments_lexer": "ipython3",
   "version": "3.9.5"
  }
 },
 "nbformat": 4,
 "nbformat_minor": 5
}
