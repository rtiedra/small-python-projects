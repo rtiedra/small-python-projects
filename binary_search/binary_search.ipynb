{
 "cells": [
  {
   "cell_type": "markdown",
   "id": "7293a732-9b09-4f8f-bf88-3712737cf17b",
   "metadata": {},
   "source": [
    "Script for 'binary_search' program in Python<br>\n",
    "Licensed under the Apache License, Version 2.0<br>\n",
    "http://www.apache.org/licenses/LICENSE-2.0"
   ]
  },
  {
   "cell_type": "markdown",
   "id": "12d21614-d938-4921-a9b8-606aec973f8c",
   "metadata": {},
   "source": [
    "The program takes as input a string of integers ordered in a strictly increasing way and does an iterative binary search to find the position of a given integer in the list."
   ]
  },
  {
   "cell_type": "code",
   "execution_count": 11,
   "id": "9c66b03f-8604-46fd-8ac0-4cfbb2771062",
   "metadata": {},
   "outputs": [],
   "source": [
    "import re"
   ]
  },
  {
   "cell_type": "raw",
   "id": "314e5fb4-6650-4606-b163-00bf751cb3f5",
   "metadata": {},
   "source": [
    "The function 'test_list' verifies that the list 'lst' has length >=2 and that its elements are ordered in a strictly increasing way:"
   ]
  },
  {
   "cell_type": "code",
   "execution_count": 12,
   "id": "073eda1d-9483-4c7c-92f0-e84e058ea270",
   "metadata": {},
   "outputs": [],
   "source": [
    "def test_list(lst):\n",
    "  var = True\n",
    "  if len(lst) < 2:\n",
    "    var = False\n",
    "  else:\n",
    "    i = 0\n",
    "    last = len(lst) - 1\n",
    "    while i < last and var == True:\n",
    "      if lst[i] < lst[i+1]:\n",
    "        i += 1\n",
    "      else:\n",
    "        var = False\n",
    "  return var"
   ]
  },
  {
   "cell_type": "markdown",
   "id": "dcd83bb6-8479-4de1-bb6e-675944093653",
   "metadata": {},
   "source": [
    "The 'binary_search' function does an iterative binary search to find the position of the integer 'number' in the sorted list 'lst':"
   ]
  },
  {
   "cell_type": "code",
   "execution_count": 13,
   "id": "c5a7b602-94b1-4224-8296-ded6eccbe275",
   "metadata": {},
   "outputs": [],
   "source": [
    "def binary_search(lst, number):\n",
    "  var = False\n",
    "  first = 0\n",
    "  last = len(lst) - 1\n",
    "  while first <= last and var == False:\n",
    "    i = (first + last) // 2\n",
    "    if lst[i] == number:\n",
    "      var = True\n",
    "      return 'The integer {} was found at position {} of the list.'.format(number, i)\n",
    "    elif lst[i] > number:\n",
    "      last = i - 1\n",
    "    elif lst[i] < number:\n",
    "      first = i + 1\n",
    "  if var == False:\n",
    "    return 'The integer {} was not found in the list'.format(number)"
   ]
  },
  {
   "cell_type": "markdown",
   "id": "3dd86c89-e297-4740-a9a5-fb7ab8f12a9f",
   "metadata": {},
   "source": [
    "The 'main' function takes as input a string containing integers and a given integer, and returns the position of the given integer in the list:"
   ]
  },
  {
   "cell_type": "code",
   "execution_count": 14,
   "id": "36391f3e-c169-4cae-b864-d18a84eac981",
   "metadata": {},
   "outputs": [],
   "source": [
    "def main():\n",
    "  var = False\n",
    "  while var == False:\n",
    "    input_string = input(\"Enter a list of strictly increasing integers (at least two integers): \")\n",
    "\n",
    "    # Finds the integers in the input string and puts them in a list:\n",
    "    input_list = [int(s) for s in re.findall(r'\\d+', input_string)]\n",
    "\n",
    "    # Checks with 'test_list' that the list is suitable:\n",
    "    var = test_list(input_list)\n",
    "\n",
    "  # Finds with 'binary_search' the position of the given number in the list, and prints the result:\n",
    "  number = int(input(\"Enter the number to be found in the list: \"))\n",
    "  print('')\n",
    "  print(binary_search(input_list, number),'\\n')"
   ]
  },
  {
   "cell_type": "code",
   "execution_count": null,
   "id": "a0f0d286-5b16-4c1a-a1ec-633ead8d2397",
   "metadata": {},
   "outputs": [
    {
     "name": "stdin",
     "output_type": "stream",
     "text": [
      "Enter a list of strictly increasing integers (at least two integers):  1 2 3 4 5 67755645\n"
     ]
    }
   ],
   "source": [
    "if __name__ == '__main__':\n",
    "  main()"
   ]
  },
  {
   "cell_type": "code",
   "execution_count": null,
   "id": "3912f2b1-bd2b-40fc-afbb-e5873b72536d",
   "metadata": {},
   "outputs": [],
   "source": []
  }
 ],
 "metadata": {
  "kernelspec": {
   "display_name": "Python 3",
   "language": "python",
   "name": "python3"
  },
  "language_info": {
   "codemirror_mode": {
    "name": "ipython",
    "version": 3
   },
   "file_extension": ".py",
   "mimetype": "text/x-python",
   "name": "python",
   "nbconvert_exporter": "python",
   "pygments_lexer": "ipython3",
   "version": "3.9.5"
  }
 },
 "nbformat": 4,
 "nbformat_minor": 5
}
