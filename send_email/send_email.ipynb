{
 "cells": [
  {
   "cell_type": "markdown",
   "id": "3316a2b9-5a34-45c0-8789-ee2e9f6b9bae",
   "metadata": {},
   "source": [
    "Script for 'send_email' program in python<br>\n",
    "Licensed under the Apache License, Version 2.0<br>\n",
    "http://www.apache.org/licenses/LICENSE-2.0"
   ]
  },
  {
   "cell_type": "markdown",
   "id": "363684a9-5e4d-42ab-b57f-d5613450909c",
   "metadata": {},
   "source": [
    "The program sends an email from a gmail account using python."
   ]
  },
  {
   "cell_type": "code",
   "execution_count": null,
   "id": "d65bf17b-13e4-486b-933e-b3e7f80031f9",
   "metadata": {},
   "outputs": [],
   "source": [
    "import smtplib"
   ]
  },
  {
   "cell_type": "markdown",
   "id": "c071b3c7-7c68-4301-94bd-a42cde22faf4",
   "metadata": {},
   "source": [
    "Asks as input the data needed for building the email:"
   ]
  },
  {
   "cell_type": "code",
   "execution_count": null,
   "id": "190fc3a0-5e39-4911-a047-fc3beef9e234",
   "metadata": {
    "tags": []
   },
   "outputs": [],
   "source": [
    "print('')\n",
    "gmail_user = input('Enter gmail user: ')\n",
    "gmail_password = input('Enter gmail password: ')"
   ]
  },
  {
   "cell_type": "code",
   "execution_count": null,
   "id": "fd753f29-f16a-49d3-9782-227b61eddcda",
   "metadata": {},
   "outputs": [],
   "source": [
    "print('')\n",
    "print('Verify that the option \"allowing less secure apps to access your account\" is enabled in your gmail settings.')\n",
    "print('https://myaccount.google.com/lesssecureapps')"
   ]
  },
  {
   "cell_type": "code",
   "execution_count": null,
   "id": "3a33cd45-c98d-4f32-b381-4ade0206738f",
   "metadata": {},
   "outputs": [],
   "source": [
    "print('')\n",
    "recipient = input('Enter email recipient: ')\n",
    "subject = input('Enter subject of the email: ')\n",
    "body = input('Enter text of the email: ')"
   ]
  },
  {
   "cell_type": "markdown",
   "id": "84cb7e06-3437-470d-8dc1-5f09f529eafb",
   "metadata": {},
   "source": [
    "Collect in email_text the data gathered for the email:"
   ]
  },
  {
   "cell_type": "code",
   "execution_count": null,
   "id": "cda4d74b-db51-4992-b2c1-c0f0f002b72c",
   "metadata": {},
   "outputs": [],
   "source": [
    "email_text = \"From: %s\\nTo: %s\\nSubject: %s\\n \\n%s\" % (gmail_user, recipient, subject, body)"
   ]
  },
  {
   "cell_type": "markdown",
   "id": "63f7934c-f6cb-49ec-bad0-555208d899b9",
   "metadata": {},
   "source": [
    "Establishes a SSL connection and sends the email:"
   ]
  },
  {
   "cell_type": "code",
   "execution_count": null,
   "id": "d251f0cc-aa3d-4c25-8304-ae6ea0a33d0d",
   "metadata": {},
   "outputs": [],
   "source": [
    "try:\n",
    "  server = smtplib.SMTP_SSL('smtp.gmail.com', 465)\n",
    "  server.ehlo()\n",
    "  server.login(gmail_user, gmail_password)\n",
    "  server.sendmail(gmail_user, recipient, email_text)\n",
    "  server.close()\n",
    "  print('')\n",
    "  print('Email sent!\\n')\n",
    "except:\n",
    "  print('Something went wrong...')"
   ]
  }
 ],
 "metadata": {
  "kernelspec": {
   "display_name": "Python 3",
   "language": "python",
   "name": "python3"
  },
  "language_info": {
   "codemirror_mode": {
    "name": "ipython",
    "version": 3
   },
   "file_extension": ".py",
   "mimetype": "text/x-python",
   "name": "python",
   "nbconvert_exporter": "python",
   "pygments_lexer": "ipython3",
   "version": "3.9.5"
  }
 },
 "nbformat": 4,
 "nbformat_minor": 5
}
